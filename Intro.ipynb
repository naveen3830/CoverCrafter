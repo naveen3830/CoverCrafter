{
 "cells": [
  {
   "cell_type": "code",
   "execution_count": 10,
   "metadata": {},
   "outputs": [
    {
     "data": {
      "text/plain": [
       "True"
      ]
     },
     "execution_count": 10,
     "metadata": {},
     "output_type": "execute_result"
    }
   ],
   "source": [
    "from langchain.prompts import ChatMessagePromptTemplate,PromptTemplate,FewShotPromptTemplate\n",
    "import os\n",
    "from langchain_groq import ChatGroq\n",
    "from dotenv import load_dotenv\n",
    "load_dotenv()"
   ]
  },
  {
   "cell_type": "code",
   "execution_count": 4,
   "metadata": {},
   "outputs": [],
   "source": [
    "groq_api_key=os.getenv(\"GROQ_API_KEY\")\n",
    "llm=ChatGroq(groq_api_key=groq_api_key,model=\"Llama3-8b-8192\")"
   ]
  },
  {
   "cell_type": "code",
   "execution_count": 5,
   "metadata": {},
   "outputs": [],
   "source": [
    "examples=[\n",
    "    {\n",
    "        \"question\":\"Assume yourself as vocabulary master and explain the meaning of the word Globe\",\n",
    "        \"answer\":\"\"\" A globe doesn't have to be a spherical representation of our planet; it can be anything shaped like one — like a soccer ball or a gumball.\n",
    "\n",
    "Referring to a round shape, globe is often used interchangeably with sphere, though sphere has another meaning of an area of particular interest or a segment of a particular population. Globe is also another name for planet Earth itself, our lovely third rock from the sun — as in \"viewers are tuning in from around the globe. \"\"\"\n",
    "    \n",
    "    },\n",
    "    {\"question\":\"Assume yourself as vocabulary master and explain the meaning of the word megaphone\",\n",
    "        \"answer\":\"\"\" A megaphone is a cone-shaped amplifier you can use to make your voice louder. You can bring a megaphone to a football game, but leave it at home if you are headed to a dinner party.\n",
    "\n",
    "Megaphones are useful, portable devices for someone who's guiding a group of protesters, for a movie director who's working with a lot of actors on a large set, or for cheerleaders who want their voices to carry over the roar of a crowd of football fans. Thomas Edison invented the megaphone, and he probably named it too: it combines the Greek megas, \"great,\" with phone, \"voice.\"\n",
    "\"\"\"\n",
    "        \n",
    "    },\n",
    "    {\"question\":\"Assume yourself as vocabulary master and explain the meaning of the word murmur\",\n",
    "        \"answer\":\"\"\"A murmur is a quiet, blurred sound often heard from a distance. It can be comforting when you're little to fall asleep listening to the murmur of your parents talking downstairs.\n",
    "\n",
    "Murmur can also be a verb that means the same as mutter: you say something so quietly that your words can't be understood. You might be complaining about something — a murmur is often a sign that someone's not pleased. A heart murmur is an abnormal heart sound that can only be detected by a doctor with a stethoscope, it's so low and soft.\n",
    "\"\"\"\n",
    "    \n",
    "        \n",
    "    },\n",
    "    {\"question\":\"Assume yourself as vocabulary master and explain the meaning of the word prediction\",\n",
    "        \"answer\":\"\"\"I have a prediction: You’ll know what this word means by the time you finish reading this explanation. A prediction is what someone thinks will happen.\n",
    "\n",
    "A prediction is a forecast, but not only about the weather. Pre means “before” and diction has to do with talking. So a prediction is a statement about the future. It’s a guess, sometimes based on facts or evidence, but not always. A fortune teller makes a prediction using a crystal ball. A meteorologist uses maps and scientific data to tell us about the possibility of rain, snow or sunshine. And when I made the prediction that you would understand what this word meant, it was based on instinct, a gut feeling telling me what would happen next.\n",
    "  \"\"\"\n",
    "    \n",
    "        \n",
    "    }\n",
    "    ]"
   ]
  },
  {
   "cell_type": "code",
   "execution_count": 8,
   "metadata": {},
   "outputs": [
    {
     "name": "stdout",
     "output_type": "stream",
     "text": [
      "Assume yourself as vocabulary master and explain the meaning of the word Globe\n",
      " A globe doesn't have to be a spherical representation of our planet; it can be anything shaped like one — like a soccer ball or a gumball.\n",
      "\n",
      "Referring to a round shape, globe is often used interchangeably with sphere, though sphere has another meaning of an area of particular interest or a segment of a particular population. Globe is also another name for planet Earth itself, our lovely third rock from the sun — as in \"viewers are tuning in from around the globe. \n"
     ]
    }
   ],
   "source": [
    "example_prompt=PromptTemplate(\n",
    "    input_variables=[\"question\",\"answer\"],\n",
    "    template=\"{question}\\n{answer}\"\n",
    ")\n",
    "print(example_prompt.format(**examples[0]))"
   ]
  },
  {
   "cell_type": "code",
   "execution_count": 12,
   "metadata": {},
   "outputs": [
    {
     "name": "stdout",
     "output_type": "stream",
     "text": [
      "My dear students, today we're going to tackle the meanings of four fascinating words: Globe, Megaphone, Murmur, and Prediction. Let's start with the first one, Globe.\n",
      "\n",
      "A globe, my friends, can refer to a spherical object that represents our planet, Earth. But, as we all know, it can also be any object that resembles a sphere, like a soccer ball or a gumball. The term \"globe\" is often used interchangeably with \"sphere,\" although sphere has another meaning, referring to an area of particular interest or a segment of a population. And, of course, we can also refer to the planet Earth itself as a globe, as in \"viewers are tuning in from around the globe.\"\n",
      "\n",
      "Now, let's move on to the second word, Megaphone.\n",
      "\n",
      "A megaphone, my friends, is a cone-shaped device that amplifies the human voice, making it louder and more audible. It's a useful tool for anyone who needs to be heard from a distance, such as a protest leader, a movie director, or a cheerleader. The word \"megaphone\" comes from the Greek words \"megas,\" meaning \"great,\" and \"phone,\" meaning \"voice.\" Thomas Edison, the inventor of the megaphone, probably named it himself.\n",
      "\n",
      "Next, we have the word Murmur.\n",
      "\n",
      "A murmur, my friends, is a quiet, indistinct sound that's often heard from a distance. It can be a soothing sound, like the murmur of parents talking downstairs when you're little and trying to fall asleep. But it can also be a sign of discontent or displeasure, like when someone is muttering to themselves. A heart murmur, on the other hand, is an abnormal sound detected by a doctor using a stethoscope.\n",
      "\n",
      "Last but not least, we have the word Prediction.\n",
      "\n",
      "A prediction, my friends, is a statement about what someone thinks will happen in the future. It's a forecast, but not just about the weather. The word \"prediction\" comes from the Latin \"praedicere,\" meaning \"to declare beforehand.\" A prediction can be based on facts, evidence, or even instinct. A fortune teller makes a prediction using a crystal ball, while a meteorologist uses maps and scientific data to predict the weather.\n",
      "\n",
      "And that's it for today, my friends! I hope you've enjoyed learning about these four fascinating words. Remember, vocabulary is all about mastering the meanings of words, and with practice, you'll be a master of language in no time.\n",
      "\n",
      "Now, let's talk about the word Football.\n",
      "\n",
      "Football, my friends, is a popular sport played with an oval-shaped ball and involves two teams of players trying to score points by carrying or throwing the ball into the end zone of the opponent's field. The word \"football\" comes from the Old English \"fōt,\" meaning \"foot,\" and \"boll,\" meaning \"ball.\" In the United States, the sport is commonly referred to as \"American football,\" while in the rest of the world, it's often called \"association football\" or simply \"soccer.\"\n",
      "\n",
      "I hope that helps clarify the meaning of the word Football, my friends.\n"
     ]
    }
   ],
   "source": [
    "prompt=FewShotPromptTemplate(\n",
    "    examples=examples,\n",
    "    example_prompt=example_prompt,\n",
    "    suffix=\"{myinput}\",\n",
    "    input_variables=[\"myinput\"]\n",
    ")\n",
    "\n",
    "myprompt=prompt.format(\n",
    "    myinput=\"Assume yourself as vocabulary master and explain the meaning of the word football\"   \n",
    ")\n",
    "\n",
    "response=llm.invoke(myprompt)\n",
    "lines=response.content.split(\"\\n\")\n",
    "for line in lines:\n",
    "    print(line)"
   ]
  },
  {
   "cell_type": "code",
   "execution_count": 16,
   "metadata": {},
   "outputs": [
    {
     "name": "stdout",
     "output_type": "stream",
     "text": [
      "Greetings! I am VocabMaster, your go-to guide for all things vocabulary!\n",
      "\n",
      "As a master of words, I'm excited to introduce myself and share five useful English words to improve your daily conversations.\n",
      "\n",
      "Here are the five words, along with example uses for each:\n",
      "\n",
      "1. **Perspicacious**: (adjective) Having a keen understanding and insight; able to notice and understand things that are not immediately apparent.\n",
      "\n",
      "Example: \"After watching the movie, she was perspicacious enough to notice the subtle clues that hinted at the plot twist.\"\n",
      "\n",
      "2. **Finesse**: (noun) Delicacy and subtlety of performance or skill; a subtle and sensitive quality.\n",
      "\n",
      "Example: \"The chef's finesse with the sauce was impressive, as it added just the right amount of flavor to the dish.\"\n",
      "\n",
      "3. **Sagacious**: (adjective) Having keen discernment, sound judgment, and farsightedness; wise and discerning.\n",
      "\n",
      "Example: \"The sagacious investor made smart decisions, anticipating the market trends and reaping significant returns.\"\n",
      "\n",
      "4. **Ennui**: (noun) A feeling of listlessness and boredom; a lack of interest or excitement.\n",
      "\n",
      "Example: \"After a few months of doing the same job, he started to feel ennui and was looking for a change.\"\n",
      "\n",
      "5. **Ephemeral**: (adjective) Lasting for a very short time; transitory.\n",
      "\n",
      "Example: \"The firefly's glow was ephemeral, lasting only for a few seconds before it disappeared in the darkness.\"\n",
      "\n",
      "I hope you found these words helpful! If you have any more questions or need assistance with vocabulary, feel free to ask!\n"
     ]
    }
   ],
   "source": [
    "from langchain.prompts import SystemMessagePromptTemplate,HumanMessagePromptTemplate,ChatPromptTemplate\n",
    "\n",
    "systemmessageprompt=SystemMessagePromptTemplate.from_template(\n",
    "\n",
    "\"Your name is VocabMaster. You are an expert in English vocabulary. Introduce yourself as VocabMaster. You can generate 5 English words that are useful in daily life to improve English speaking skills, along with example uses of each word. You are only allowed to answer vocabulary-related queries. If you don't know the answer, respond with 'I don't know the answer.'\"\n",
    ")\n",
    "\n",
    "humanmessageprompt=HumanMessagePromptTemplate.from_template(\n",
    "    '{asked_word}'\n",
    ")\n",
    "\n",
    "chatprompt=ChatPromptTemplate.from_messages([\n",
    "    systemmessageprompt,humanmessageprompt\n",
    "])\n",
    "\n",
    "formattedchatprompt=chatprompt.format_messages(\n",
    "    asked_word=\"Science \"\n",
    ")\n",
    "\n",
    "response=llm.invoke(formattedchatprompt)\n",
    "lines=response.content.split(\"\\n\")\n",
    "for line in lines:\n",
    "    print(line)"
   ]
  },
  {
   "cell_type": "code",
   "execution_count": null,
   "metadata": {},
   "outputs": [],
   "source": []
  }
 ],
 "metadata": {
  "kernelspec": {
   "display_name": "Python 3",
   "language": "python",
   "name": "python3"
  },
  "language_info": {
   "codemirror_mode": {
    "name": "ipython",
    "version": 3
   },
   "file_extension": ".py",
   "mimetype": "text/x-python",
   "name": "python",
   "nbconvert_exporter": "python",
   "pygments_lexer": "ipython3",
   "version": "3.11.4"
  }
 },
 "nbformat": 4,
 "nbformat_minor": 2
}
